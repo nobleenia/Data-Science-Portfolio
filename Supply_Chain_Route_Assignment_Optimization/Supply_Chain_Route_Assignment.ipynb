{
 "cells": [
  {
   "cell_type": "markdown",
   "id": "d348c0f2-c018-462c-87fc-bb307259969b",
   "metadata": {},
   "source": [
    "# Supply Chain Route Assignment Optimization"
   ]
  },
  {
   "cell_type": "markdown",
   "id": "666d090a-64fc-4880-95bb-48df2a944332",
   "metadata": {},
   "source": [
    "## Setup Prerequisites"
   ]
  },
  {
   "cell_type": "code",
   "execution_count": 1,
   "id": "6c5b91fb-565f-4bf1-9404-e051a82ae0ff",
   "metadata": {},
   "outputs": [
    {
     "name": "stdout",
     "output_type": "stream",
     "text": [
      "Requirement already satisfied: pandas in c:\\users\\neluw\\anaconda3\\lib\\site-packages (1.4.4)\n",
      "Requirement already satisfied: numpy in c:\\users\\neluw\\anaconda3\\lib\\site-packages (1.24.0)\n",
      "Requirement already satisfied: pulp in c:\\users\\neluw\\appdata\\roaming\\python\\python39\\site-packages (2.7.0)\n",
      "Requirement already satisfied: pytz>=2020.1 in c:\\users\\neluw\\anaconda3\\lib\\site-packages (from pandas) (2022.1)\n",
      "Requirement already satisfied: python-dateutil>=2.8.1 in c:\\users\\neluw\\anaconda3\\lib\\site-packages (from pandas) (2.8.2)\n",
      "Requirement already satisfied: six>=1.5 in c:\\users\\neluw\\anaconda3\\lib\\site-packages (from python-dateutil>=2.8.1->pandas) (1.16.0)\n",
      "Note: you may need to restart the kernel to use updated packages.\n"
     ]
    }
   ],
   "source": [
    "pip install pandas numpy pulp --user --no-warn-script-location"
   ]
  },
  {
   "cell_type": "markdown",
   "id": "82d75ed6-3308-4079-893d-dbcb8c1248a3",
   "metadata": {},
   "source": [
    "## Import Libraries"
   ]
  },
  {
   "cell_type": "code",
   "execution_count": 2,
   "id": "eaaff722-b1c5-4387-a622-1ec019cc9a60",
   "metadata": {},
   "outputs": [],
   "source": [
    "import pandas as pd\n",
    "from pulp import LpProblem, LpVariable, lpSum, LpMinimize, LpConstraint"
   ]
  },
  {
   "cell_type": "markdown",
   "id": "7a7dd4d6-03c4-4a08-8e69-4ecae57747c8",
   "metadata": {},
   "source": [
    "## Load and Clean Data"
   ]
  },
  {
   "cell_type": "code",
   "execution_count": 3,
   "id": "cf91c027-d397-4467-b21c-0a58c0068fd3",
   "metadata": {},
   "outputs": [],
   "source": [
    "def load_and_clean_data(file_path):\n",
    "    \"\"\"\n",
    "    Load and preprocess the supply chain data from an Excel file.\n",
    "    \n",
    "    Parameters:\n",
    "        file_path (str): Path to the Excel file containing all data tables.\n",
    "    \n",
    "    Returns:\n",
    "        dict: A dictionary containing cleaned and consolidated data DataFrames.\n",
    "    \"\"\"\n",
    "    data = pd.read_excel(file_path, sheet_name=None)\n",
    "\n",
    "    # Data cleaning and preprocessing for each table\n",
    "    cleaned_data = {}\n",
    "    for table_name, table_data in data.items():\n",
    "        cleaned_data[table_name] = table_data.dropna()\n",
    "    \n",
    "    return cleaned_data"
   ]
  },
  {
   "cell_type": "markdown",
   "id": "5c23ccc7-b816-4a8a-b00e-077bbdc6967e",
   "metadata": {},
   "source": [
    "## Route Assignment Optimization"
   ]
  },
  {
   "cell_type": "code",
   "execution_count": 4,
   "id": "b8878d2c-ad54-41c6-9ecf-eb9cdaeb744e",
   "metadata": {},
   "outputs": [],
   "source": [
    "def route_assignment_optimization(data):\n",
    "    \"\"\"\n",
    "    Perform route assignment optimization.\n",
    "\n",
    "    Parameters:\n",
    "        data (dict): A dictionary containing cleaned and consolidated data DataFrames.\n",
    "\n",
    "    Returns:\n",
    "        LpProblem: The PuLP optimization problem.\n",
    "    \"\"\"\n",
    "    # Extract relevant data from the consolidated DataFrames\n",
    "    order_data = data['OrderList']\n",
    "    freight_rates = data['FreightRates']\n",
    "    wh_costs = data['WhCosts']\n",
    "    wh_capacities = data['WhCapacities']\n",
    "    products_per_plant = data['ProductsPerPlant']\n",
    "    vmi_customers = data['VmiCustomers']\n",
    "    plant_ports = data['PlantPorts']\n",
    "\n",
    "    # Define decision variables\n",
    "    route_assignments = LpVariable.dicts(\"RouteAssignment\",\n",
    "                                        ((order, route) for order in order_data['Order ID'] for route in freight_rates['Carrier']),\n",
    "                                        cat=\"Binary\")\n",
    "\n",
    "    # Define the optimization problem\n",
    "    problem = LpProblem(\"RouteAssignmentOptimization\", LpMinimize)\n",
    "\n",
    "    # Define the objective function\n",
    "    costs = []\n",
    "    for order in order_data['Order ID']:\n",
    "        for route in freight_rates['Carrier']:\n",
    "            cost = order_data.loc[order_data['Order ID'] == order, 'Weight'].values[0] * freight_rates.loc[\n",
    "                freight_rates['Carrier'] == route, 'minimum cost'].values[0]\n",
    "            costs.append(route_assignments[(order, route)] * cost)\n",
    "\n",
    "    problem += lpSum(costs), \"Total Cost\"\n",
    "\n",
    "    # Add constraints (rest of the code remains the same)\n"
   ]
  },
  {
   "cell_type": "markdown",
   "id": "7be9c102-b20b-4753-923d-89b539179701",
   "metadata": {},
   "source": [
    "## Perform Optimization"
   ]
  },
  {
   "cell_type": "code",
   "execution_count": null,
   "id": "df150f24-eb87-4bbb-9053-5b786d4c162b",
   "metadata": {},
   "outputs": [],
   "source": [
    "if __name__ == '__main__':\n",
    "    # Load and preprocess the supply chain data\n",
    "    data = load_and_clean_data(\"C:/Users/neluw/Desktop/Data Science Projects/Supply chain logisitcs problem.xlsx\")\n",
    "\n",
    "    # Perform route assignment optimization\n",
    "    problem = route_assignment_optimization(data)\n",
    "\n",
    "    # Solve the optimization problem\n",
    "    problem.solve()\n",
    "\n",
    "    # Interpret the results\n",
    "    for order, route in route_assignments:\n",
    "        if route_assignments[(order, route)].varValue == 1:\n",
    "            print(f\"Assign Order {order} to Route {route}\")\n",
    "\n",
    "    print(f\"Total Cost: ${problem.objective.value()}\")"
   ]
  },
  {
   "cell_type": "code",
   "execution_count": null,
   "id": "686d5317-a63e-4682-bc72-69e8adbdbf90",
   "metadata": {},
   "outputs": [],
   "source": []
  }
 ],
 "metadata": {
  "kernelspec": {
   "display_name": "Python 3 (ipykernel)",
   "language": "python",
   "name": "python3"
  },
  "language_info": {
   "codemirror_mode": {
    "name": "ipython",
    "version": 3
   },
   "file_extension": ".py",
   "mimetype": "text/x-python",
   "name": "python",
   "nbconvert_exporter": "python",
   "pygments_lexer": "ipython3",
   "version": "3.9.13"
  }
 },
 "nbformat": 4,
 "nbformat_minor": 5
}
