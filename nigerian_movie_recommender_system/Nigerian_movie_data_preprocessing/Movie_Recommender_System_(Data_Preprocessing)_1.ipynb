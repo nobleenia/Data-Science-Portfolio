{
 "cells": [
  {
   "cell_type": "markdown",
   "id": "26b1c57b-2379-4e60-854a-06e890575b7a",
   "metadata": {},
   "source": [
    "# Nigerian Movie Recommender System"
   ]
  },
  {
   "cell_type": "markdown",
   "id": "b3f6691c-9f67-4800-a010-251fb757eb04",
   "metadata": {},
   "source": [
    "## Import Libraries"
   ]
  },
  {
   "cell_type": "code",
   "execution_count": 1,
   "id": "68a008d4-4173-4a64-9174-5926db100ee2",
   "metadata": {},
   "outputs": [],
   "source": [
    "import pandas as pd\n",
    "import numpy as np\n",
    "import matplotlib.pyplot as plt"
   ]
  },
  {
   "cell_type": "markdown",
   "id": "a2fa7f93-db39-49e6-999c-f6b7591a148b",
   "metadata": {},
   "source": [
    "## Load Data"
   ]
  },
  {
   "cell_type": "code",
   "execution_count": 2,
   "id": "f76ad14f-b05e-431e-bb2f-dc27b48da80d",
   "metadata": {},
   "outputs": [],
   "source": [
    "data = pd.read_csv(\"C:/Users/neluw/Desktop/Data Science Projects/imdb.csv\")"
   ]
  },
  {
   "cell_type": "code",
   "execution_count": 3,
   "id": "01a5e1ec-e5b1-4150-b48b-c009ca593175",
   "metadata": {},
   "outputs": [
    {
     "data": {
      "text/html": [
       "<div>\n",
       "<style scoped>\n",
       "    .dataframe tbody tr th:only-of-type {\n",
       "        vertical-align: middle;\n",
       "    }\n",
       "\n",
       "    .dataframe tbody tr th {\n",
       "        vertical-align: top;\n",
       "    }\n",
       "\n",
       "    .dataframe thead th {\n",
       "        text-align: right;\n",
       "    }\n",
       "</style>\n",
       "<table border=\"1\" class=\"dataframe\">\n",
       "  <thead>\n",
       "    <tr style=\"text-align: right;\">\n",
       "      <th></th>\n",
       "      <th>id</th>\n",
       "      <th>url</th>\n",
       "      <th>title</th>\n",
       "      <th>poster</th>\n",
       "      <th>trailer</th>\n",
       "      <th>ratings</th>\n",
       "      <th>num_ratings</th>\n",
       "      <th>stars</th>\n",
       "      <th>director</th>\n",
       "      <th>writer</th>\n",
       "      <th>genre</th>\n",
       "      <th>release_date</th>\n",
       "      <th>language</th>\n",
       "      <th>film_location</th>\n",
       "      <th>company</th>\n",
       "      <th>duration</th>\n",
       "      <th>box_office</th>\n",
       "      <th>keywords</th>\n",
       "      <th>about</th>\n",
       "      <th>eze_rank</th>\n",
       "    </tr>\n",
       "  </thead>\n",
       "  <tbody>\n",
       "    <tr>\n",
       "      <th>0</th>\n",
       "      <td>1</td>\n",
       "      <td>https://www.imdb.com/title/tt13594244/?ref_=ad...</td>\n",
       "      <td>Inter</td>\n",
       "      <td>NaN</td>\n",
       "      <td>NaN</td>\n",
       "      <td>NaN</td>\n",
       "      <td>NaN</td>\n",
       "      <td>NaN</td>\n",
       "      <td>NaN</td>\n",
       "      <td>NaN</td>\n",
       "      <td>{Romance}</td>\n",
       "      <td>NaN</td>\n",
       "      <td>NaN</td>\n",
       "      <td>NaN</td>\n",
       "      <td>NaN</td>\n",
       "      <td>NaN</td>\n",
       "      <td>NaN</td>\n",
       "      <td>NaN</td>\n",
       "      <td>NaN</td>\n",
       "      <td>NaN</td>\n",
       "    </tr>\n",
       "    <tr>\n",
       "      <th>1</th>\n",
       "      <td>2</td>\n",
       "      <td>https://www.imdb.com/title/tt0055769/?ref_=adv...</td>\n",
       "      <td>La bague du roi Koda</td>\n",
       "      <td>NaN</td>\n",
       "      <td>NaN</td>\n",
       "      <td>6.8</td>\n",
       "      <td>6.0</td>\n",
       "      <td>NaN</td>\n",
       "      <td>NaN</td>\n",
       "      <td>NaN</td>\n",
       "      <td>{Short}</td>\n",
       "      <td>1962-05-01</td>\n",
       "      <td>{French}</td>\n",
       "      <td>NaN</td>\n",
       "      <td>NaN</td>\n",
       "      <td>24.0</td>\n",
       "      <td>NaN</td>\n",
       "      <td>NaN</td>\n",
       "      <td>NaN</td>\n",
       "      <td>NaN</td>\n",
       "    </tr>\n",
       "    <tr>\n",
       "      <th>2</th>\n",
       "      <td>3</td>\n",
       "      <td>https://www.imdb.com/title/tt16765028/?ref_=ad...</td>\n",
       "      <td>Earth</td>\n",
       "      <td>NaN</td>\n",
       "      <td>NaN</td>\n",
       "      <td>NaN</td>\n",
       "      <td>NaN</td>\n",
       "      <td>NaN</td>\n",
       "      <td>NaN</td>\n",
       "      <td>NaN</td>\n",
       "      <td>{Fantasy}</td>\n",
       "      <td>NaN</td>\n",
       "      <td>NaN</td>\n",
       "      <td>NaN</td>\n",
       "      <td>NaN</td>\n",
       "      <td>NaN</td>\n",
       "      <td>NaN</td>\n",
       "      <td>NaN</td>\n",
       "      <td>NaN</td>\n",
       "      <td>NaN</td>\n",
       "    </tr>\n",
       "    <tr>\n",
       "      <th>3</th>\n",
       "      <td>4</td>\n",
       "      <td>https://www.imdb.com/title/tt13557598/?ref_=ad...</td>\n",
       "      <td>EYO - the Spirit Mortal</td>\n",
       "      <td>NaN</td>\n",
       "      <td>NaN</td>\n",
       "      <td>NaN</td>\n",
       "      <td>NaN</td>\n",
       "      <td>NaN</td>\n",
       "      <td>NaN</td>\n",
       "      <td>NaN</td>\n",
       "      <td>{Action}</td>\n",
       "      <td>NaN</td>\n",
       "      <td>NaN</td>\n",
       "      <td>NaN</td>\n",
       "      <td>NaN</td>\n",
       "      <td>NaN</td>\n",
       "      <td>NaN</td>\n",
       "      <td>NaN</td>\n",
       "      <td>NaN</td>\n",
       "      <td>NaN</td>\n",
       "    </tr>\n",
       "    <tr>\n",
       "      <th>4</th>\n",
       "      <td>5</td>\n",
       "      <td>https://www.imdb.com/title/tt0085130/?ref_=adv...</td>\n",
       "      <td>Aare Agbaye</td>\n",
       "      <td>NaN</td>\n",
       "      <td>NaN</td>\n",
       "      <td>NaN</td>\n",
       "      <td>NaN</td>\n",
       "      <td>NaN</td>\n",
       "      <td>NaN</td>\n",
       "      <td>NaN</td>\n",
       "      <td>NaN</td>\n",
       "      <td>NaN</td>\n",
       "      <td>NaN</td>\n",
       "      <td>NaN</td>\n",
       "      <td>NaN</td>\n",
       "      <td>NaN</td>\n",
       "      <td>NaN</td>\n",
       "      <td>NaN</td>\n",
       "      <td>NaN</td>\n",
       "      <td>NaN</td>\n",
       "    </tr>\n",
       "    <tr>\n",
       "      <th>5</th>\n",
       "      <td>87</td>\n",
       "      <td>https://www.imdb.com/title/tt8172420/?ref_=adv...</td>\n",
       "      <td>The Debt</td>\n",
       "      <td>NaN</td>\n",
       "      <td>NaN</td>\n",
       "      <td>NaN</td>\n",
       "      <td>NaN</td>\n",
       "      <td>NaN</td>\n",
       "      <td>NaN</td>\n",
       "      <td>NaN</td>\n",
       "      <td>NaN</td>\n",
       "      <td>2018-05-01</td>\n",
       "      <td>NaN</td>\n",
       "      <td>NaN</td>\n",
       "      <td>NaN</td>\n",
       "      <td>NaN</td>\n",
       "      <td>NaN</td>\n",
       "      <td>NaN</td>\n",
       "      <td>NaN</td>\n",
       "      <td>NaN</td>\n",
       "    </tr>\n",
       "    <tr>\n",
       "      <th>6</th>\n",
       "      <td>88</td>\n",
       "      <td>https://www.imdb.com/title/tt13421406/?ref_=ad...</td>\n",
       "      <td>Ghost Worker</td>\n",
       "      <td>NaN</td>\n",
       "      <td>NaN</td>\n",
       "      <td>NaN</td>\n",
       "      <td>NaN</td>\n",
       "      <td>NaN</td>\n",
       "      <td>NaN</td>\n",
       "      <td>NaN</td>\n",
       "      <td>{Short,Mystery}</td>\n",
       "      <td>NaN</td>\n",
       "      <td>NaN</td>\n",
       "      <td>NaN</td>\n",
       "      <td>NaN</td>\n",
       "      <td>NaN</td>\n",
       "      <td>NaN</td>\n",
       "      <td>NaN</td>\n",
       "      <td>NaN</td>\n",
       "      <td>NaN</td>\n",
       "    </tr>\n",
       "    <tr>\n",
       "      <th>7</th>\n",
       "      <td>90</td>\n",
       "      <td>https://www.imdb.com/title/tt6521744/?ref_=adv...</td>\n",
       "      <td>Nne</td>\n",
       "      <td>NaN</td>\n",
       "      <td>NaN</td>\n",
       "      <td>NaN</td>\n",
       "      <td>NaN</td>\n",
       "      <td>NaN</td>\n",
       "      <td>NaN</td>\n",
       "      <td>NaN</td>\n",
       "      <td>{Drama}</td>\n",
       "      <td>NaN</td>\n",
       "      <td>{Ibo}</td>\n",
       "      <td>NaN</td>\n",
       "      <td>NaN</td>\n",
       "      <td>NaN</td>\n",
       "      <td>NaN</td>\n",
       "      <td>NaN</td>\n",
       "      <td>NaN</td>\n",
       "      <td>NaN</td>\n",
       "    </tr>\n",
       "    <tr>\n",
       "      <th>8</th>\n",
       "      <td>110</td>\n",
       "      <td>https://www.imdb.com/title/tt13594206/?ref_=ad...</td>\n",
       "      <td>Magun</td>\n",
       "      <td>NaN</td>\n",
       "      <td>NaN</td>\n",
       "      <td>NaN</td>\n",
       "      <td>NaN</td>\n",
       "      <td>NaN</td>\n",
       "      <td>NaN</td>\n",
       "      <td>NaN</td>\n",
       "      <td>{Thriller}</td>\n",
       "      <td>NaN</td>\n",
       "      <td>NaN</td>\n",
       "      <td>NaN</td>\n",
       "      <td>NaN</td>\n",
       "      <td>NaN</td>\n",
       "      <td>NaN</td>\n",
       "      <td>NaN</td>\n",
       "      <td>NaN</td>\n",
       "      <td>NaN</td>\n",
       "    </tr>\n",
       "    <tr>\n",
       "      <th>9</th>\n",
       "      <td>113</td>\n",
       "      <td>https://www.imdb.com/title/tt13594302/?ref_=ad...</td>\n",
       "      <td>No Longer at Home</td>\n",
       "      <td>NaN</td>\n",
       "      <td>NaN</td>\n",
       "      <td>NaN</td>\n",
       "      <td>NaN</td>\n",
       "      <td>NaN</td>\n",
       "      <td>NaN</td>\n",
       "      <td>NaN</td>\n",
       "      <td>{Thriller}</td>\n",
       "      <td>NaN</td>\n",
       "      <td>NaN</td>\n",
       "      <td>NaN</td>\n",
       "      <td>NaN</td>\n",
       "      <td>NaN</td>\n",
       "      <td>NaN</td>\n",
       "      <td>NaN</td>\n",
       "      <td>NaN</td>\n",
       "      <td>NaN</td>\n",
       "    </tr>\n",
       "  </tbody>\n",
       "</table>\n",
       "</div>"
      ],
      "text/plain": [
       "    id                                                url  \\\n",
       "0    1  https://www.imdb.com/title/tt13594244/?ref_=ad...   \n",
       "1    2  https://www.imdb.com/title/tt0055769/?ref_=adv...   \n",
       "2    3  https://www.imdb.com/title/tt16765028/?ref_=ad...   \n",
       "3    4  https://www.imdb.com/title/tt13557598/?ref_=ad...   \n",
       "4    5  https://www.imdb.com/title/tt0085130/?ref_=adv...   \n",
       "5   87  https://www.imdb.com/title/tt8172420/?ref_=adv...   \n",
       "6   88  https://www.imdb.com/title/tt13421406/?ref_=ad...   \n",
       "7   90  https://www.imdb.com/title/tt6521744/?ref_=adv...   \n",
       "8  110  https://www.imdb.com/title/tt13594206/?ref_=ad...   \n",
       "9  113  https://www.imdb.com/title/tt13594302/?ref_=ad...   \n",
       "\n",
       "                     title poster trailer  ratings  num_ratings stars  \\\n",
       "0                    Inter    NaN     NaN      NaN          NaN   NaN   \n",
       "1     La bague du roi Koda    NaN     NaN      6.8          6.0   NaN   \n",
       "2                    Earth    NaN     NaN      NaN          NaN   NaN   \n",
       "3  EYO - the Spirit Mortal    NaN     NaN      NaN          NaN   NaN   \n",
       "4              Aare Agbaye    NaN     NaN      NaN          NaN   NaN   \n",
       "5                 The Debt    NaN     NaN      NaN          NaN   NaN   \n",
       "6             Ghost Worker    NaN     NaN      NaN          NaN   NaN   \n",
       "7                      Nne    NaN     NaN      NaN          NaN   NaN   \n",
       "8                    Magun    NaN     NaN      NaN          NaN   NaN   \n",
       "9        No Longer at Home    NaN     NaN      NaN          NaN   NaN   \n",
       "\n",
       "  director writer            genre release_date  language film_location  \\\n",
       "0      NaN    NaN        {Romance}          NaN       NaN           NaN   \n",
       "1      NaN    NaN          {Short}   1962-05-01  {French}           NaN   \n",
       "2      NaN    NaN        {Fantasy}          NaN       NaN           NaN   \n",
       "3      NaN    NaN         {Action}          NaN       NaN           NaN   \n",
       "4      NaN    NaN              NaN          NaN       NaN           NaN   \n",
       "5      NaN    NaN              NaN   2018-05-01       NaN           NaN   \n",
       "6      NaN    NaN  {Short,Mystery}          NaN       NaN           NaN   \n",
       "7      NaN    NaN          {Drama}          NaN     {Ibo}           NaN   \n",
       "8      NaN    NaN       {Thriller}          NaN       NaN           NaN   \n",
       "9      NaN    NaN       {Thriller}          NaN       NaN           NaN   \n",
       "\n",
       "  company  duration  box_office keywords about  eze_rank  \n",
       "0     NaN       NaN         NaN      NaN   NaN       NaN  \n",
       "1     NaN      24.0         NaN      NaN   NaN       NaN  \n",
       "2     NaN       NaN         NaN      NaN   NaN       NaN  \n",
       "3     NaN       NaN         NaN      NaN   NaN       NaN  \n",
       "4     NaN       NaN         NaN      NaN   NaN       NaN  \n",
       "5     NaN       NaN         NaN      NaN   NaN       NaN  \n",
       "6     NaN       NaN         NaN      NaN   NaN       NaN  \n",
       "7     NaN       NaN         NaN      NaN   NaN       NaN  \n",
       "8     NaN       NaN         NaN      NaN   NaN       NaN  \n",
       "9     NaN       NaN         NaN      NaN   NaN       NaN  "
      ]
     },
     "execution_count": 3,
     "metadata": {},
     "output_type": "execute_result"
    }
   ],
   "source": [
    "data.head(10)"
   ]
  },
  {
   "cell_type": "code",
   "execution_count": 4,
   "id": "b2432160-8f50-4680-b9a1-9d89beacb364",
   "metadata": {},
   "outputs": [
    {
     "data": {
      "text/plain": [
       "(7492, 20)"
      ]
     },
     "execution_count": 4,
     "metadata": {},
     "output_type": "execute_result"
    }
   ],
   "source": [
    "data.shape"
   ]
  },
  {
   "cell_type": "code",
   "execution_count": 5,
   "id": "1889a763-cdb2-4c31-ba41-bd48d2115a9f",
   "metadata": {},
   "outputs": [
    {
     "data": {
      "text/plain": [
       "Index(['id', 'url', 'title', 'poster', 'trailer', 'ratings', 'num_ratings',\n",
       "       'stars', 'director', 'writer', 'genre', 'release_date', 'language',\n",
       "       'film_location', 'company', 'duration', 'box_office', 'keywords',\n",
       "       'about', 'eze_rank'],\n",
       "      dtype='object')"
      ]
     },
     "execution_count": 5,
     "metadata": {},
     "output_type": "execute_result"
    }
   ],
   "source": [
    "data.columns"
   ]
  },
  {
   "cell_type": "markdown",
   "id": "8f5f6039-a439-4f69-915f-676e73250f62",
   "metadata": {},
   "source": [
    "## Data Cleaning"
   ]
  },
  {
   "cell_type": "markdown",
   "id": "b6acb755-7757-4208-b610-c0f80032416a",
   "metadata": {},
   "source": [
    "### Choose Desired Columns"
   ]
  },
  {
   "cell_type": "code",
   "execution_count": 6,
   "id": "312372fa-a3b3-471b-845f-383802b6e6ff",
   "metadata": {},
   "outputs": [],
   "source": [
    "selected_columns = ['title', 'director', 'stars', 'genre', 'release_date', 'company']"
   ]
  },
  {
   "cell_type": "code",
   "execution_count": 7,
   "id": "2a4e316d-e24e-463d-a19e-895cdb5fe3b3",
   "metadata": {},
   "outputs": [],
   "source": [
    "selected = data[selected_columns]"
   ]
  },
  {
   "cell_type": "markdown",
   "id": "4369c302-b74a-47f1-b39f-5f368e9d71f1",
   "metadata": {},
   "source": [
    "### Remove rows with missing values in any of the selected columns"
   ]
  },
  {
   "cell_type": "code",
   "execution_count": 8,
   "id": "da66c43a-77cc-4bde-8baa-c758afc5435e",
   "metadata": {},
   "outputs": [],
   "source": [
    "cleaned_data = selected.dropna()"
   ]
  },
  {
   "cell_type": "code",
   "execution_count": 9,
   "id": "727fff43-4fdb-4457-8996-12adce06d727",
   "metadata": {},
   "outputs": [
    {
     "data": {
      "text/html": [
       "<div>\n",
       "<style scoped>\n",
       "    .dataframe tbody tr th:only-of-type {\n",
       "        vertical-align: middle;\n",
       "    }\n",
       "\n",
       "    .dataframe tbody tr th {\n",
       "        vertical-align: top;\n",
       "    }\n",
       "\n",
       "    .dataframe thead th {\n",
       "        text-align: right;\n",
       "    }\n",
       "</style>\n",
       "<table border=\"1\" class=\"dataframe\">\n",
       "  <thead>\n",
       "    <tr style=\"text-align: right;\">\n",
       "      <th></th>\n",
       "      <th>title</th>\n",
       "      <th>director</th>\n",
       "      <th>stars</th>\n",
       "      <th>genre</th>\n",
       "      <th>release_date</th>\n",
       "      <th>company</th>\n",
       "    </tr>\n",
       "  </thead>\n",
       "  <tbody>\n",
       "    <tr>\n",
       "      <th>17</th>\n",
       "      <td>Anna</td>\n",
       "      <td>{\"Emeka Madu\"}</td>\n",
       "      <td>{\"Anthony Aniekwe\",\"Jibola Dabo\",\"Chelsea Eze\"...</td>\n",
       "      <td>{Drama}</td>\n",
       "      <td>2018-02-01</td>\n",
       "      <td>{\"Touch Of Sas Concept\"}</td>\n",
       "    </tr>\n",
       "    <tr>\n",
       "      <th>20</th>\n",
       "      <td>Last Offence</td>\n",
       "      <td>{\"Nonso Emekaekwue\"}</td>\n",
       "      <td>{\"Rita Dominic\",\"Mike Ezuruonye\",\"Oge Okoye\"}</td>\n",
       "      <td>{Drama}</td>\n",
       "      <td>2006-09-01</td>\n",
       "      <td>{\"Simony Productions\"}</td>\n",
       "    </tr>\n",
       "    <tr>\n",
       "      <th>21</th>\n",
       "      <td>Good News 2</td>\n",
       "      <td>{\"Reginald Ebere\"}</td>\n",
       "      <td>{\"Fabian Adibe\",\"Nonso Diobi\",\"Emeka Enyiocha\"...</td>\n",
       "      <td>{Drama}</td>\n",
       "      <td>2005-03-01</td>\n",
       "      <td>{\"Cobic Productions\"}</td>\n",
       "    </tr>\n",
       "    <tr>\n",
       "      <th>22</th>\n",
       "      <td>The Web</td>\n",
       "      <td>{\"Michael Chineme Ike\"}</td>\n",
       "      <td>{\"Gabriel Okechukwu Odoh\",\"Ben Okoye\",Slimstar}</td>\n",
       "      <td>{Short,Drama,Thriller}</td>\n",
       "      <td>2020-10-01</td>\n",
       "      <td>{\"MIC Productions\"}</td>\n",
       "    </tr>\n",
       "    <tr>\n",
       "      <th>25</th>\n",
       "      <td>Blames of Memories</td>\n",
       "      <td>{\"Victor Emeghara\"}</td>\n",
       "      <td>{\"Peter Bunor\",\"Emeka Enyiocha\",\"Ngozi Ezeonu\"...</td>\n",
       "      <td>{Drama}</td>\n",
       "      <td>2005-02-01</td>\n",
       "      <td>{\"Iyke-Mec Films\"}</td>\n",
       "    </tr>\n",
       "    <tr>\n",
       "      <th>26</th>\n",
       "      <td>Western Union</td>\n",
       "      <td>{\"Prince Emeka Ani\"}</td>\n",
       "      <td>{\"Moses Armstrong\",\"Monalisa Chinda\",\"Benedict...</td>\n",
       "      <td>{Drama}</td>\n",
       "      <td>2007-12-01</td>\n",
       "      <td>{\"Uche 10 Nigeria\"}</td>\n",
       "    </tr>\n",
       "    <tr>\n",
       "      <th>27</th>\n",
       "      <td>Tiger King</td>\n",
       "      <td>{\"Stan K. Amandi\"}</td>\n",
       "      <td>{\"Fabian Adibe\",\"Nonso Diobi\",\"Pete Edochie\",\"...</td>\n",
       "      <td>{Drama}</td>\n",
       "      <td>2008-01-01</td>\n",
       "      <td>{\"Immortal Films\"}</td>\n",
       "    </tr>\n",
       "    <tr>\n",
       "      <th>28</th>\n",
       "      <td>Sharon's Call</td>\n",
       "      <td>{\"Okey Ifeanyi\"}</td>\n",
       "      <td>{\"Toosweet Annan\",\"Roxy Antak\",\"Uzor Arukwe\",\"...</td>\n",
       "      <td>{Drama}</td>\n",
       "      <td>2020-09-01</td>\n",
       "      <td>{\"Rok Studios\",\"Supa Pictures Media\"}</td>\n",
       "    </tr>\n",
       "    <tr>\n",
       "      <th>30</th>\n",
       "      <td>Trilateral</td>\n",
       "      <td>{\"Akin-Tijani Balogun\"}</td>\n",
       "      <td>{\"Uche Nwaefuna\",\"Matilda Obaseki\",\"Chiazo Ogb...</td>\n",
       "      <td>{Drama}</td>\n",
       "      <td>2022-02-01</td>\n",
       "      <td>{\"Mazinni Pictures\",\"Rok Studios\"}</td>\n",
       "    </tr>\n",
       "    <tr>\n",
       "      <th>31</th>\n",
       "      <td>Virgins Night Out 2</td>\n",
       "      <td>{\"Tarila Thompson\"}</td>\n",
       "      <td>{\"Jim Iyke\",\"Stephanie Linus\"}</td>\n",
       "      <td>{Drama,Romance}</td>\n",
       "      <td>2004-12-01</td>\n",
       "      <td>{\"Goldmark International\"}</td>\n",
       "    </tr>\n",
       "  </tbody>\n",
       "</table>\n",
       "</div>"
      ],
      "text/plain": [
       "                  title                 director  \\\n",
       "17                 Anna           {\"Emeka Madu\"}   \n",
       "20         Last Offence     {\"Nonso Emekaekwue\"}   \n",
       "21          Good News 2       {\"Reginald Ebere\"}   \n",
       "22              The Web  {\"Michael Chineme Ike\"}   \n",
       "25   Blames of Memories      {\"Victor Emeghara\"}   \n",
       "26        Western Union     {\"Prince Emeka Ani\"}   \n",
       "27           Tiger King       {\"Stan K. Amandi\"}   \n",
       "28        Sharon's Call         {\"Okey Ifeanyi\"}   \n",
       "30           Trilateral  {\"Akin-Tijani Balogun\"}   \n",
       "31  Virgins Night Out 2      {\"Tarila Thompson\"}   \n",
       "\n",
       "                                                stars                   genre  \\\n",
       "17  {\"Anthony Aniekwe\",\"Jibola Dabo\",\"Chelsea Eze\"...                 {Drama}   \n",
       "20      {\"Rita Dominic\",\"Mike Ezuruonye\",\"Oge Okoye\"}                 {Drama}   \n",
       "21  {\"Fabian Adibe\",\"Nonso Diobi\",\"Emeka Enyiocha\"...                 {Drama}   \n",
       "22    {\"Gabriel Okechukwu Odoh\",\"Ben Okoye\",Slimstar}  {Short,Drama,Thriller}   \n",
       "25  {\"Peter Bunor\",\"Emeka Enyiocha\",\"Ngozi Ezeonu\"...                 {Drama}   \n",
       "26  {\"Moses Armstrong\",\"Monalisa Chinda\",\"Benedict...                 {Drama}   \n",
       "27  {\"Fabian Adibe\",\"Nonso Diobi\",\"Pete Edochie\",\"...                 {Drama}   \n",
       "28  {\"Toosweet Annan\",\"Roxy Antak\",\"Uzor Arukwe\",\"...                 {Drama}   \n",
       "30  {\"Uche Nwaefuna\",\"Matilda Obaseki\",\"Chiazo Ogb...                 {Drama}   \n",
       "31                     {\"Jim Iyke\",\"Stephanie Linus\"}         {Drama,Romance}   \n",
       "\n",
       "   release_date                                company  \n",
       "17   2018-02-01               {\"Touch Of Sas Concept\"}  \n",
       "20   2006-09-01                 {\"Simony Productions\"}  \n",
       "21   2005-03-01                  {\"Cobic Productions\"}  \n",
       "22   2020-10-01                    {\"MIC Productions\"}  \n",
       "25   2005-02-01                     {\"Iyke-Mec Films\"}  \n",
       "26   2007-12-01                    {\"Uche 10 Nigeria\"}  \n",
       "27   2008-01-01                     {\"Immortal Films\"}  \n",
       "28   2020-09-01  {\"Rok Studios\",\"Supa Pictures Media\"}  \n",
       "30   2022-02-01     {\"Mazinni Pictures\",\"Rok Studios\"}  \n",
       "31   2004-12-01             {\"Goldmark International\"}  "
      ]
     },
     "execution_count": 9,
     "metadata": {},
     "output_type": "execute_result"
    }
   ],
   "source": [
    "cleaned_data.head(10)"
   ]
  },
  {
   "cell_type": "code",
   "execution_count": 10,
   "id": "a80c13cd-88c6-40b2-9adc-30b4add039f8",
   "metadata": {},
   "outputs": [
    {
     "data": {
      "text/plain": [
       "(5889, 6)"
      ]
     },
     "execution_count": 10,
     "metadata": {},
     "output_type": "execute_result"
    }
   ],
   "source": [
    "cleaned_data.shape"
   ]
  },
  {
   "cell_type": "code",
   "execution_count": 11,
   "id": "3da47e47-8ca3-4ef7-ba12-e3c83f702bf6",
   "metadata": {},
   "outputs": [],
   "source": [
    "cleaned_data.to_csv('nigerian_movies_data.csv')"
   ]
  },
  {
   "cell_type": "markdown",
   "id": "73812203-11be-4b98-ba6e-69db62b43250",
   "metadata": {},
   "source": [
    "## Load Cleaned Data for Deep Cleaning"
   ]
  },
  {
   "cell_type": "code",
   "execution_count": 12,
   "id": "3a1efeb0-519b-4159-b222-d42b51a49b97",
   "metadata": {},
   "outputs": [],
   "source": [
    "new_data = pd.read_csv(\"C:/Users/neluw/Desktop/Data Science Projects/nigerian_movies_data.csv\")"
   ]
  },
  {
   "cell_type": "markdown",
   "id": "f462abab-c7fd-4a39-a354-07294bf826a5",
   "metadata": {},
   "source": [
    "### Remove Curly Braces from Data"
   ]
  },
  {
   "cell_type": "code",
   "execution_count": 13,
   "id": "891700a2-56da-4dbc-b001-8d365f514f1b",
   "metadata": {},
   "outputs": [],
   "source": [
    "def remove_curly_braces(text):\n",
    "    # Check if the text is enclosed in curly braces and remove them\n",
    "    if isinstance(text, str) and text.startswith('{') and text.endswith('}'):\n",
    "        return text[1:-1]\n",
    "    else:\n",
    "        return text\n",
    "\n",
    "# Apply the remove_curly_braces function to all cells in the DataFrame\n",
    "new_data = new_data.applymap(remove_curly_braces)"
   ]
  },
  {
   "cell_type": "markdown",
   "id": "0f4b1869-c56d-4c4e-a777-71ab7f4d268e",
   "metadata": {},
   "source": [
    "### Remove Quotes from Data"
   ]
  },
  {
   "cell_type": "code",
   "execution_count": 14,
   "id": "a85f7d68-eedf-453c-ad30-502708a4e792",
   "metadata": {},
   "outputs": [],
   "source": [
    "def remove_quotes(text):\n",
    "    # Check if the text is enclosed in curly braces and remove them\n",
    "    if isinstance(text, str):\n",
    "        text = text.replace('\"', '')\n",
    "        return text\n",
    "    else:\n",
    "        return text\n",
    "\n",
    "# Apply the remove_curly_braces function to all cells in the DataFrame\n",
    "new_data = new_data.applymap(remove_quotes)"
   ]
  },
  {
   "cell_type": "markdown",
   "id": "edabbde2-c49d-4056-a1f2-0a9b4737e1de",
   "metadata": {},
   "source": [
    "### Convert release_year to just bear the year"
   ]
  },
  {
   "cell_type": "code",
   "execution_count": 15,
   "id": "4aa5cc7d-0678-41f4-b019-ca50abdac81a",
   "metadata": {},
   "outputs": [],
   "source": [
    "# Convert the \"release_date\" column to datetime\n",
    "new_data['release_date'] = pd.to_datetime(new_data['release_date'])\n",
    "\n",
    "# Extract the year and overwrite the \"release_date\" column\n",
    "new_data['release_date'] = new_data['release_date'].dt.year"
   ]
  },
  {
   "cell_type": "markdown",
   "id": "8ca358fb-cb9f-474c-a607-feb30283b684",
   "metadata": {},
   "source": [
    "### Split the \"stars\" column into multiple columns"
   ]
  },
  {
   "cell_type": "code",
   "execution_count": 16,
   "id": "cb34c526-faea-447e-b405-4f6abd636b24",
   "metadata": {},
   "outputs": [],
   "source": [
    "stars_split = new_data['stars'].str.split(',', expand=True, n=3)\n",
    "\n",
    "# Create new columns for \"star_1,\" \"star_2,\" and \"star_3\" and assign the values\n",
    "new_data['star_1'] = stars_split[0]\n",
    "new_data['star_2'] = stars_split[1]\n",
    "new_data['star_3'] = stars_split[2]\n",
    "\n",
    "# Drop the original \"stars\" column\n",
    "new_data.drop('stars', axis=1, inplace=True)"
   ]
  },
  {
   "cell_type": "markdown",
   "id": "8f006cdb-9534-466e-b0a3-252b0e5d5f81",
   "metadata": {},
   "source": [
    "### Split the \"genre\" column and select the first genre"
   ]
  },
  {
   "cell_type": "code",
   "execution_count": 17,
   "id": "4f6fd975-b159-4c9e-90fe-cb9c5bc63b8a",
   "metadata": {},
   "outputs": [],
   "source": [
    "new_data['genre'] = new_data['genre'].str.split(',').str[0]"
   ]
  },
  {
   "cell_type": "code",
   "execution_count": 18,
   "id": "1365cfce-be69-450e-a7cd-aab002b8ce70",
   "metadata": {},
   "outputs": [],
   "source": [
    "# Drop the \"Unnamed: 0\" column\n",
    "new_data.drop(\"Unnamed: 0\", axis=1, inplace=True)"
   ]
  },
  {
   "cell_type": "code",
   "execution_count": 19,
   "id": "c85dee2f-e3e0-4b8b-bb29-617dba84c1ba",
   "metadata": {},
   "outputs": [
    {
     "data": {
      "text/html": [
       "<div>\n",
       "<style scoped>\n",
       "    .dataframe tbody tr th:only-of-type {\n",
       "        vertical-align: middle;\n",
       "    }\n",
       "\n",
       "    .dataframe tbody tr th {\n",
       "        vertical-align: top;\n",
       "    }\n",
       "\n",
       "    .dataframe thead th {\n",
       "        text-align: right;\n",
       "    }\n",
       "</style>\n",
       "<table border=\"1\" class=\"dataframe\">\n",
       "  <thead>\n",
       "    <tr style=\"text-align: right;\">\n",
       "      <th></th>\n",
       "      <th>title</th>\n",
       "      <th>director</th>\n",
       "      <th>genre</th>\n",
       "      <th>release_date</th>\n",
       "      <th>company</th>\n",
       "      <th>star_1</th>\n",
       "      <th>star_2</th>\n",
       "      <th>star_3</th>\n",
       "    </tr>\n",
       "  </thead>\n",
       "  <tbody>\n",
       "    <tr>\n",
       "      <th>0</th>\n",
       "      <td>Anna</td>\n",
       "      <td>Emeka Madu</td>\n",
       "      <td>Drama</td>\n",
       "      <td>2018</td>\n",
       "      <td>Touch Of Sas Concept</td>\n",
       "      <td>Anthony Aniekwe</td>\n",
       "      <td>Jibola Dabo</td>\n",
       "      <td>Chelsea Eze</td>\n",
       "    </tr>\n",
       "    <tr>\n",
       "      <th>1</th>\n",
       "      <td>Last Offence</td>\n",
       "      <td>Nonso Emekaekwue</td>\n",
       "      <td>Drama</td>\n",
       "      <td>2006</td>\n",
       "      <td>Simony Productions</td>\n",
       "      <td>Rita Dominic</td>\n",
       "      <td>Mike Ezuruonye</td>\n",
       "      <td>Oge Okoye</td>\n",
       "    </tr>\n",
       "    <tr>\n",
       "      <th>2</th>\n",
       "      <td>Good News 2</td>\n",
       "      <td>Reginald Ebere</td>\n",
       "      <td>Drama</td>\n",
       "      <td>2005</td>\n",
       "      <td>Cobic Productions</td>\n",
       "      <td>Fabian Adibe</td>\n",
       "      <td>Nonso Diobi</td>\n",
       "      <td>Emeka Enyiocha</td>\n",
       "    </tr>\n",
       "    <tr>\n",
       "      <th>3</th>\n",
       "      <td>The Web</td>\n",
       "      <td>Michael Chineme Ike</td>\n",
       "      <td>Short</td>\n",
       "      <td>2020</td>\n",
       "      <td>MIC Productions</td>\n",
       "      <td>Gabriel Okechukwu Odoh</td>\n",
       "      <td>Ben Okoye</td>\n",
       "      <td>Slimstar</td>\n",
       "    </tr>\n",
       "    <tr>\n",
       "      <th>4</th>\n",
       "      <td>Blames of Memories</td>\n",
       "      <td>Victor Emeghara</td>\n",
       "      <td>Drama</td>\n",
       "      <td>2005</td>\n",
       "      <td>Iyke-Mec Films</td>\n",
       "      <td>Peter Bunor</td>\n",
       "      <td>Emeka Enyiocha</td>\n",
       "      <td>Ngozi Ezeonu</td>\n",
       "    </tr>\n",
       "    <tr>\n",
       "      <th>5</th>\n",
       "      <td>Western Union</td>\n",
       "      <td>Prince Emeka Ani</td>\n",
       "      <td>Drama</td>\n",
       "      <td>2007</td>\n",
       "      <td>Uche 10 Nigeria</td>\n",
       "      <td>Moses Armstrong</td>\n",
       "      <td>Monalisa Chinda</td>\n",
       "      <td>Benedict Johnson</td>\n",
       "    </tr>\n",
       "    <tr>\n",
       "      <th>6</th>\n",
       "      <td>Tiger King</td>\n",
       "      <td>Stan K. Amandi</td>\n",
       "      <td>Drama</td>\n",
       "      <td>2008</td>\n",
       "      <td>Immortal Films</td>\n",
       "      <td>Fabian Adibe</td>\n",
       "      <td>Nonso Diobi</td>\n",
       "      <td>Pete Edochie</td>\n",
       "    </tr>\n",
       "    <tr>\n",
       "      <th>7</th>\n",
       "      <td>Sharon's Call</td>\n",
       "      <td>Okey Ifeanyi</td>\n",
       "      <td>Drama</td>\n",
       "      <td>2020</td>\n",
       "      <td>Rok Studios,Supa Pictures Media</td>\n",
       "      <td>Toosweet Annan</td>\n",
       "      <td>Roxy Antak</td>\n",
       "      <td>Uzor Arukwe</td>\n",
       "    </tr>\n",
       "    <tr>\n",
       "      <th>8</th>\n",
       "      <td>Trilateral</td>\n",
       "      <td>Akin-Tijani Balogun</td>\n",
       "      <td>Drama</td>\n",
       "      <td>2022</td>\n",
       "      <td>Mazinni Pictures,Rok Studios</td>\n",
       "      <td>Uche Nwaefuna</td>\n",
       "      <td>Matilda Obaseki</td>\n",
       "      <td>Chiazo Ogbu</td>\n",
       "    </tr>\n",
       "    <tr>\n",
       "      <th>9</th>\n",
       "      <td>Virgins Night Out 2</td>\n",
       "      <td>Tarila Thompson</td>\n",
       "      <td>Drama</td>\n",
       "      <td>2004</td>\n",
       "      <td>Goldmark International</td>\n",
       "      <td>Jim Iyke</td>\n",
       "      <td>Stephanie Linus</td>\n",
       "      <td>None</td>\n",
       "    </tr>\n",
       "  </tbody>\n",
       "</table>\n",
       "</div>"
      ],
      "text/plain": [
       "                 title             director  genre  release_date  \\\n",
       "0                 Anna           Emeka Madu  Drama          2018   \n",
       "1         Last Offence     Nonso Emekaekwue  Drama          2006   \n",
       "2          Good News 2       Reginald Ebere  Drama          2005   \n",
       "3              The Web  Michael Chineme Ike  Short          2020   \n",
       "4   Blames of Memories      Victor Emeghara  Drama          2005   \n",
       "5        Western Union     Prince Emeka Ani  Drama          2007   \n",
       "6           Tiger King       Stan K. Amandi  Drama          2008   \n",
       "7        Sharon's Call         Okey Ifeanyi  Drama          2020   \n",
       "8           Trilateral  Akin-Tijani Balogun  Drama          2022   \n",
       "9  Virgins Night Out 2      Tarila Thompson  Drama          2004   \n",
       "\n",
       "                           company                  star_1           star_2  \\\n",
       "0             Touch Of Sas Concept         Anthony Aniekwe      Jibola Dabo   \n",
       "1               Simony Productions            Rita Dominic   Mike Ezuruonye   \n",
       "2                Cobic Productions            Fabian Adibe      Nonso Diobi   \n",
       "3                  MIC Productions  Gabriel Okechukwu Odoh        Ben Okoye   \n",
       "4                   Iyke-Mec Films             Peter Bunor   Emeka Enyiocha   \n",
       "5                  Uche 10 Nigeria         Moses Armstrong  Monalisa Chinda   \n",
       "6                   Immortal Films            Fabian Adibe      Nonso Diobi   \n",
       "7  Rok Studios,Supa Pictures Media          Toosweet Annan       Roxy Antak   \n",
       "8     Mazinni Pictures,Rok Studios           Uche Nwaefuna  Matilda Obaseki   \n",
       "9           Goldmark International                Jim Iyke  Stephanie Linus   \n",
       "\n",
       "             star_3  \n",
       "0       Chelsea Eze  \n",
       "1         Oge Okoye  \n",
       "2    Emeka Enyiocha  \n",
       "3          Slimstar  \n",
       "4      Ngozi Ezeonu  \n",
       "5  Benedict Johnson  \n",
       "6      Pete Edochie  \n",
       "7       Uzor Arukwe  \n",
       "8       Chiazo Ogbu  \n",
       "9              None  "
      ]
     },
     "execution_count": 19,
     "metadata": {},
     "output_type": "execute_result"
    }
   ],
   "source": [
    "new_data.head(10)"
   ]
  },
  {
   "cell_type": "markdown",
   "id": "7c4f43f1-d915-4c5b-b197-a4d075ad8ec4",
   "metadata": {},
   "source": [
    "## Save Data to new file"
   ]
  },
  {
   "cell_type": "code",
   "execution_count": 20,
   "id": "bafab661-8810-4145-a9f1-aa92833b9651",
   "metadata": {},
   "outputs": [],
   "source": [
    "new_data.to_csv('cleaned_nigerian_movies_data.csv')"
   ]
  },
  {
   "cell_type": "markdown",
   "id": "4ddc8368-a455-4e58-8a51-4fd3d2802b18",
   "metadata": {},
   "source": [
    "## Data Visualization by Year"
   ]
  },
  {
   "cell_type": "markdown",
   "id": "6915b81d-ba1f-4860-80b3-b14475992144",
   "metadata": {},
   "source": [
    "### Years and their number of movies"
   ]
  },
  {
   "cell_type": "code",
   "execution_count": 21,
   "id": "9dc201de-9f4f-439e-8c65-f52fbd7dae16",
   "metadata": {},
   "outputs": [
    {
     "name": "stdout",
     "output_type": "stream",
     "text": [
      "Movies by Year:\n",
      "    release_date  Number of Movies\n",
      "0           1959                 1\n",
      "1           1973                 1\n",
      "2           1977                 1\n",
      "3           1979                 1\n",
      "4           1980                 1\n",
      "5           1981                 2\n",
      "6           1986                 1\n",
      "7           1988                 1\n",
      "8           1991                 1\n",
      "9           1993                 3\n",
      "10          1994                 4\n",
      "11          1995                 5\n",
      "12          1996                 7\n",
      "13          1997                 8\n",
      "14          1998                14\n",
      "15          1999                21\n",
      "16          2000                 9\n",
      "17          2001                29\n",
      "18          2002                66\n",
      "19          2003               239\n",
      "20          2004               366\n",
      "21          2005               469\n",
      "22          2006               513\n",
      "23          2007               392\n",
      "24          2008               275\n",
      "25          2009               142\n",
      "26          2010                59\n",
      "27          2011                60\n",
      "28          2012                88\n",
      "29          2013               102\n",
      "30          2014               144\n",
      "31          2015               189\n",
      "32          2016               208\n",
      "33          2017               254\n",
      "34          2018               281\n",
      "35          2019               349\n",
      "36          2020               357\n",
      "37          2021               591\n",
      "38          2022               551\n",
      "39          2023                84\n"
     ]
    }
   ],
   "source": [
    "# Group the data by year and count the number of movies in each year\n",
    "yearly_counts = new_data.groupby('release_date')['title'].count().reset_index()\n",
    "yearly_counts.rename(columns={'title': 'Number of Movies'}, inplace=True)\n",
    "\n",
    "# Display the tables\n",
    "print(\"Movies by Year:\")\n",
    "print(yearly_counts)"
   ]
  },
  {
   "cell_type": "code",
   "execution_count": 22,
   "id": "3ccd8808-d5a6-4203-97a7-1ea6c0e54cb3",
   "metadata": {},
   "outputs": [
    {
     "data": {
      "image/png": "[encoded data removed]",
      "text/plain": [
       "<Figure size 1500x1600 with 1 Axes>"
      ]
     },
     "metadata": {},
     "output_type": "display_data"
    }
   ],
   "source": [
    "new_data['release_date'].value_counts(dropna=False).sort_index(ascending=True).plot(kind='barh',figsize=(15,16))\n",
    "plt.xlabel('Count')\n",
    "plt.ylabel('Year')\n",
    "plt.title('Distribution of Movies by Year')\n",
    "plt.show()"
   ]
  },
  {
   "cell_type": "markdown",
   "id": "5b72f4c7-33f6-47e4-899e-5e2f5d9e1b61",
   "metadata": {},
   "source": [
    "## Data Visualization by Genre"
   ]
  },
  {
   "cell_type": "markdown",
   "id": "465076d5-1da1-47b7-8454-4519ec2c3eb4",
   "metadata": {},
   "source": [
    "### Genres and their number of movies"
   ]
  },
  {
   "cell_type": "code",
   "execution_count": 23,
   "id": "c00d86f7-0573-4029-b4c1-3c8caedde11b",
   "metadata": {},
   "outputs": [
    {
     "name": "stdout",
     "output_type": "stream",
     "text": [
      "\n",
      "Movies by Genre:\n",
      "          genre  Number of Movies\n",
      "0        Action               169\n",
      "1     Adventure                16\n",
      "2     Animation                11\n",
      "3     Biography                 3\n",
      "4        Comedy               617\n",
      "5         Crime                38\n",
      "6   Documentary                 2\n",
      "7         Drama              4317\n",
      "8        Family                17\n",
      "9       Fantasy                18\n",
      "10      History                 3\n",
      "11       Horror                30\n",
      "12      Musical                12\n",
      "13      Mystery                14\n",
      "14         News                 1\n",
      "15      Romance               186\n",
      "16       Sci-Fi                 2\n",
      "17        Short               334\n",
      "18     Thriller                97\n",
      "19          War                 2\n"
     ]
    }
   ],
   "source": [
    "# Group the data by genre and count the number of movies in each genre\n",
    "genre_counts = new_data.groupby('genre')['title'].count().reset_index()\n",
    "genre_counts.rename(columns={'title': 'Number of Movies'}, inplace=True)\n",
    "\n",
    "# Display the table\n",
    "print(\"\\nMovies by Genre:\")\n",
    "print(genre_counts)"
   ]
  },
  {
   "cell_type": "code",
   "execution_count": 24,
   "id": "7cd2872c-a7ad-4e4e-92da-70a83f240b78",
   "metadata": {},
   "outputs": [
    {
     "data": {
      "image/png": "[encoded data removed]",
      "text/plain": [
       "<Figure size 1500x1600 with 1 Axes>"
      ]
     },
     "metadata": {},
     "output_type": "display_data"
    }
   ],
   "source": [
    "new_data['genre'].value_counts(dropna=False).sort_index(ascending=False).plot(kind='barh', figsize=(15, 16))\n",
    "plt.xlabel('Count')\n",
    "plt.ylabel('Genre')\n",
    "plt.title('Distribution of Movies by Genre')\n",
    "plt.show()"
   ]
  },
  {
   "cell_type": "markdown",
   "id": "914d1e12-ac99-47a3-a846-bb2810204fb0",
   "metadata": {},
   "source": [
    "# Conclusion\n",
    "We explore the trends in the Nigerian movie industry over the years by analyzing movie releases and genre preferences.\n",
    "The data provides a comprehensive overview of movies released from 1959 to 2023.\n",
    "\n",
    "## Movies by Year:\n",
    "The first visualization displays the number of movies made in each year. It's evident that the Nigerian film industry has grown significantly over the years. In the early years, the number of movies released was relatively small, with just one movie in 1959. However, starting from the 1990s, there was a substantial increase in movie production. The industry saw a remarkable surge in the 2000s, with a peak of 591 movies released in 2021. This indicates a thriving and dynamic film industry that has gained recognition both locally and internationally.\n",
    "\n",
    "## Movies by Genre:\n",
    "The second visualization provides insights into genre preferences among Nigerian moviegoers. The genre \"Drama\" dominates the Nigerian film industry, with a substantial number of 4,317 movies, indicating its enduring popularity. \"Comedy\" follows as the second most popular genre, with 617 movies, reflecting the Nigerian audience's love for humor and entertainment.\n",
    "\n",
    "Other genres like \"Romance,\" \"Action,\" \"Short,\" and \"Thriller\" also find a place in the hearts of movie enthusiasts in Nigeria. These statistics show a diverse range of genres catering to various tastes and preferences within the audience.\n",
    "\n",
    "It's essential to note that while some genres are well-established and continue to thrive, others like \"Biography,\" \"Sci-Fi,\" and \"War\" are relatively less common, with only a few movies in these categories. This diversity of genres suggests that the Nigerian film industry aims to cater to a wide audience and explore a variety of themes and storytelling styles.\n",
    "\n",
    "In conclusion, the Nigerian film industry has witnessed remarkable growth in terms of the number of movies produced and the diversity of genres explored. The industry has gained recognition not only locally but also on the international stage. As the years progress, it will be interesting to see how the industry continues to evolve and adapt to the changing preferences of the audience."
   ]
  },
  {
   "cell_type": "code",
   "execution_count": null,
   "id": "8c131945-3330-41b9-a97a-7e54296b7300",
   "metadata": {},
   "outputs": [],
   "source": []
  }
 ],
 "metadata": {
  "kernelspec": {
   "display_name": "Python 3 (ipykernel)",
   "language": "python",
   "name": "python3"
  },
  "language_info": {
   "codemirror_mode": {
    "name": "ipython",
    "version": 3
   },
   "file_extension": ".py",
   "mimetype": "text/x-python",
   "name": "python",
   "nbconvert_exporter": "python",
   "pygments_lexer": "ipython3",
   "version": "3.9.13"
  }
 },
 "nbformat": 4,
 "nbformat_minor": 5
}
