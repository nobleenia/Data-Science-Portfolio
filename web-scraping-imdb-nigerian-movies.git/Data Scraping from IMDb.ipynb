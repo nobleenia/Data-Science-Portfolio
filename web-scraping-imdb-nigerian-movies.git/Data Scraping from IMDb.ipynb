{
 "cells": [
  {
   "cell_type": "markdown",
   "id": "0f4b979b-4674-478a-9013-bf4843b5006d",
   "metadata": {},
   "source": [
    "# Scraping Nigerian Movies Data From IMDb"
   ]
  },
  {
   "cell_type": "markdown",
   "id": "5daa013a-4b70-46d6-9e22-f6d50bfdfa9c",
   "metadata": {},
   "source": [
    "## Install Required Libraries"
   ]
  },
  {
   "cell_type": "code",
   "execution_count": 1,
   "id": "9d419838-e59c-4104-b7f0-fb8072f7afe7",
   "metadata": {},
   "outputs": [
    {
     "name": "stdout",
     "output_type": "stream",
     "text": [
      "Requirement already satisfied: requests in c:\\users\\neluw\\anaconda3\\lib\\site-packages (2.28.1)\n",
      "Requirement already satisfied: beautifulsoup4 in c:\\users\\neluw\\anaconda3\\lib\\site-packages (4.11.1)\n",
      "Requirement already satisfied: certifi>=2017.4.17 in c:\\users\\neluw\\anaconda3\\lib\\site-packages (from requests) (2022.9.14)\n",
      "Requirement already satisfied: charset-normalizer<3,>=2 in c:\\users\\neluw\\anaconda3\\lib\\site-packages (from requests) (2.0.4)\n",
      "Requirement already satisfied: urllib3<1.27,>=1.21.1 in c:\\users\\neluw\\anaconda3\\lib\\site-packages (from requests) (1.26.11)\n",
      "Requirement already satisfied: idna<4,>=2.5 in c:\\users\\neluw\\anaconda3\\lib\\site-packages (from requests) (3.3)\n",
      "Requirement already satisfied: soupsieve>1.2 in c:\\users\\neluw\\anaconda3\\lib\\site-packages (from beautifulsoup4) (2.3.1)\n",
      "Note: you may need to restart the kernel to use updated packages.\n"
     ]
    }
   ],
   "source": [
    "pip install requests beautifulsoup4 --user --no-warn-script-location"
   ]
  },
  {
   "cell_type": "markdown",
   "id": "aaf68771-c787-4db7-9209-bd5cd403bd3c",
   "metadata": {},
   "source": [
    "## Import Required Libraries"
   ]
  },
  {
   "cell_type": "code",
   "execution_count": 2,
   "id": "8b6106bf-4bc8-4641-bf32-6510156205b0",
   "metadata": {},
   "outputs": [],
   "source": [
    "import pandas as pd\n",
    "import requests\n",
    "from bs4 import BeautifulSoup\n",
    "import numpy as np"
   ]
  },
  {
   "cell_type": "markdown",
   "id": "8d4f502f-0088-4588-973d-a033577010a5",
   "metadata": {},
   "source": [
    "## Declare the headers"
   ]
  },
  {
   "cell_type": "code",
   "execution_count": 3,
   "id": "7e5c6ce8-b3e2-47db-90df-b39abb4b6d3f",
   "metadata": {},
   "outputs": [],
   "source": [
    "headers = {\"Accept-Language\": \"en-US,en;q=0.5\"}"
   ]
  },
  {
   "cell_type": "markdown",
   "id": "1d3140c0-4a5f-43e9-896d-2092f8b4c160",
   "metadata": {},
   "source": [
    "## Attributes to Extract"
   ]
  },
  {
   "cell_type": "code",
   "execution_count": 4,
   "id": "57597dcc-d6f7-40e1-a5b2-ed61893307c8",
   "metadata": {},
   "outputs": [],
   "source": [
    "movie_title = []\n",
    "director_names = []\n",
    "duration = []\n",
    "actor_1_name = []\n",
    "genres = []\n",
    "num_votes = []\n",
    "actor_2_name = []\n",
    "actor_3_name = []\n",
    "content_rating = []\n",
    "release_year = []"
   ]
  },
  {
   "cell_type": "markdown",
   "id": "90ecdcb0-c6e5-4844-8396-b31119ec56d6",
   "metadata": {},
   "source": [
    "## Set URL and Make HTTP Request"
   ]
  },
  {
   "cell_type": "code",
   "execution_count": 26,
   "id": "96aaef17-fa20-445c-830f-c0ace722730a",
   "metadata": {},
   "outputs": [],
   "source": [
    "pages = np.arange(1, 1000, 50)\n",
    "\n",
    "for response in pages:  \n",
    "    response = requests.get(\"https://www.imdb.com/search/title/?country_of_origin=NG&start=\"+str(response)+\"&ref_=adv_nxt\")"
   ]
  },
  {
   "cell_type": "markdown",
   "id": "16d0f6e8-1681-4917-a3a8-2e97443b65e5",
   "metadata": {},
   "source": [
    "## Identify the Website Structure"
   ]
  },
  {
   "cell_type": "code",
   "execution_count": 27,
   "id": "f8bd95d6-8381-429d-b1f4-69dc4b35b620",
   "metadata": {},
   "outputs": [],
   "source": [
    "    soup = BeautifulSoup(response.text, 'html.parser')"
   ]
  },
  {
   "cell_type": "code",
   "execution_count": 28,
   "id": "05c68100-3ddf-4c05-8187-b8139ba408fc",
   "metadata": {},
   "outputs": [],
   "source": [
    "    movie_data = soup.findAll('div', attrs={'class': 'lister-item mode-advanced'})"
   ]
  },
  {
   "cell_type": "markdown",
   "id": "345b866b-2636-4c34-bc03-388527dc9cde",
   "metadata": {},
   "source": [
    "### Extract Movie Attributes"
   ]
  },
  {
   "cell_type": "code",
   "execution_count": 29,
   "id": "0b7bd232-6a40-4b76-a29e-03836a16e1f0",
   "metadata": {},
   "outputs": [],
   "source": [
    "    for store in movie_data:\n",
    "        # 1. Extract Movie Titles\n",
    "        name = store.h3.a.text\n",
    "        movie_title.append(name)\n",
    "    \n",
    "        # 2. Extract Movie Year\n",
    "        year_element = store.h3.find('span', class_ = 'lister-item-year text-muted unbold')\n",
    "        if year_element:\n",
    "            year = year_element.text.replace('(', '').replace(')', '')\n",
    "        else:\n",
    "            year = \"N/A\"\n",
    "        release_year.append(year)\n",
    "    \n",
    "        # 3. Extract Movie Duration\n",
    "        runtime_element = store.p.find('span', class_ = \"runtime\")\n",
    "        if runtime_element:\n",
    "            runtime = runtime_element.text.replace(' min', '')\n",
    "        else:\n",
    "            runtime = \"N/A\"\n",
    "        duration.append(runtime)\n",
    "    \n",
    "        # 4. Extract Director's Name\n",
    "        director_element = store.find('p', class_ = \"\")\n",
    "        if director_element:\n",
    "            director_link = director_element.find('a')\n",
    "            if director_link:\n",
    "                director_name = director_link.text\n",
    "            else:\n",
    "                director_name = \"N/A\"\n",
    "        else:\n",
    "            director_name = \"N/A\"\n",
    "        director_names.append(director_name)\n",
    "    \n",
    "        # 5. Extract Movie Rating\n",
    "        rate = store.find('div', class_ = 'inline-block ratings-imdb-rating')\n",
    "        if rate is not None:\n",
    "            ratings = rate.text.replace('\\n', '')\n",
    "        else:\n",
    "            ratings = \"N/A\"\n",
    "        content_rating.append(ratings)\n",
    "    \n",
    "        # 6. Extract Actor 1 Name\n",
    "        stars_label = store.select('p:-soup-contains(\" Stars: \")')\n",
    "        if stars_label:\n",
    "            first_actor_element = stars_label[0].find_next('a')\n",
    "            first_actor_name = first_actor_element.text if first_actor_element else \"N/A\"\n",
    "        else:\n",
    "            first_actor_name = \"N/A\"\n",
    "        actor_1_name.append(first_actor_name)\n",
    "    \n",
    "        # 7. Extract Genres\n",
    "        genre_element = store.p.find('span', class_='genre')\n",
    "        if genre_element is not None:\n",
    "            genre_text = genre_element.get_text(strip=True)\n",
    "            genre_list = [genre.strip() for genre in genre_text.split(',')]\n",
    "            if genre_list:\n",
    "                genres.append(genre_list[0])  # Only append the first genre\n",
    "            else:\n",
    "                genres.append(\"N/A\")\n",
    "        else:\n",
    "            genres.append(\"N/A\")\n",
    "        \n",
    "        # 8. Extract Votes\n",
    "        value = store.find_all('span', attrs = {'name': 'nv'})\n",
    "        if value:\n",
    "            vote = value[0].text\n",
    "            num_votes.append(vote)\n",
    "        else:\n",
    "            num_votes.append('N/A')"
   ]
  },
  {
   "cell_type": "markdown",
   "id": "aab7f098-44ec-46ca-a158-9c3fc5769cd7",
   "metadata": {},
   "source": [
    "## Create a DataFrame for Data"
   ]
  },
  {
   "cell_type": "code",
   "execution_count": 30,
   "id": "79d0a839-d939-4b58-8e6c-2a1ccaec24b5",
   "metadata": {},
   "outputs": [],
   "source": [
    "nigerian_movies = pd.DataFrame({'movie_title': movie_title, 'release_year': release_year, 'duration': duration, 'genres': genres, 'director_names': director_names, 'actor_1_name': actor_1_name, 'num_votes': num_votes, 'content_rating': content_rating})"
   ]
  },
  {
   "cell_type": "code",
   "execution_count": 31,
   "id": "ebe5132b-50cb-4596-86c0-02ad68a0e070",
   "metadata": {},
   "outputs": [
    {
     "data": {
      "text/html": [
       "<div>\n",
       "<style scoped>\n",
       "    .dataframe tbody tr th:only-of-type {\n",
       "        vertical-align: middle;\n",
       "    }\n",
       "\n",
       "    .dataframe tbody tr th {\n",
       "        vertical-align: top;\n",
       "    }\n",
       "\n",
       "    .dataframe thead th {\n",
       "        text-align: right;\n",
       "    }\n",
       "</style>\n",
       "<table border=\"1\" class=\"dataframe\">\n",
       "  <thead>\n",
       "    <tr style=\"text-align: right;\">\n",
       "      <th></th>\n",
       "      <th>movie_title</th>\n",
       "      <th>release_year</th>\n",
       "      <th>duration</th>\n",
       "      <th>genres</th>\n",
       "      <th>director_names</th>\n",
       "      <th>actor_1_name</th>\n",
       "      <th>num_votes</th>\n",
       "      <th>content_rating</th>\n",
       "    </tr>\n",
       "  </thead>\n",
       "  <tbody>\n",
       "    <tr>\n",
       "      <th>0</th>\n",
       "      <td>The Black Book</td>\n",
       "      <td>2023</td>\n",
       "      <td>124</td>\n",
       "      <td>Thriller</td>\n",
       "      <td>Editi Effiong</td>\n",
       "      <td>N/A</td>\n",
       "      <td>905</td>\n",
       "      <td>5.1</td>\n",
       "    </tr>\n",
       "    <tr>\n",
       "      <th>1</th>\n",
       "      <td>SHE Must Be Obeyed</td>\n",
       "      <td>2023–</td>\n",
       "      <td>N/A</td>\n",
       "      <td>Comedy</td>\n",
       "      <td>Funke Akindele</td>\n",
       "      <td>N/A</td>\n",
       "      <td>89</td>\n",
       "      <td>6.1</td>\n",
       "    </tr>\n",
       "    <tr>\n",
       "      <th>2</th>\n",
       "      <td>After Party</td>\n",
       "      <td>2021</td>\n",
       "      <td>N/A</td>\n",
       "      <td>Comedy</td>\n",
       "      <td>Tope Alake</td>\n",
       "      <td>N/A</td>\n",
       "      <td>84</td>\n",
       "      <td>7.2</td>\n",
       "    </tr>\n",
       "    <tr>\n",
       "      <th>3</th>\n",
       "      <td>Ijogbon</td>\n",
       "      <td>2023</td>\n",
       "      <td>115</td>\n",
       "      <td>Drama</td>\n",
       "      <td>Kunle Afolayan</td>\n",
       "      <td>N/A</td>\n",
       "      <td>74</td>\n",
       "      <td>5.6</td>\n",
       "    </tr>\n",
       "    <tr>\n",
       "      <th>4</th>\n",
       "      <td>Something Like Gold</td>\n",
       "      <td>2023</td>\n",
       "      <td>N/A</td>\n",
       "      <td>Drama</td>\n",
       "      <td>Kayode Kasum</td>\n",
       "      <td>N/A</td>\n",
       "      <td>19</td>\n",
       "      <td>9.4</td>\n",
       "    </tr>\n",
       "  </tbody>\n",
       "</table>\n",
       "</div>"
      ],
      "text/plain": [
       "           movie_title release_year duration    genres  director_names  \\\n",
       "0       The Black Book         2023      124  Thriller   Editi Effiong   \n",
       "1   SHE Must Be Obeyed       2023–       N/A    Comedy  Funke Akindele   \n",
       "2          After Party         2021      N/A    Comedy      Tope Alake   \n",
       "3              Ijogbon         2023      115     Drama  Kunle Afolayan   \n",
       "4  Something Like Gold         2023      N/A     Drama    Kayode Kasum   \n",
       "\n",
       "  actor_1_name num_votes content_rating  \n",
       "0          N/A       905            5.1  \n",
       "1          N/A        89            6.1  \n",
       "2          N/A        84            7.2  \n",
       "3          N/A        74            5.6  \n",
       "4          N/A        19            9.4  "
      ]
     },
     "execution_count": 31,
     "metadata": {},
     "output_type": "execute_result"
    }
   ],
   "source": [
    "nigerian_movies.head()"
   ]
  },
  {
   "cell_type": "code",
   "execution_count": 33,
   "id": "8838f561-c9cb-4006-a191-7c94ff9408dd",
   "metadata": {},
   "outputs": [],
   "source": [
    "nigerian_movies.to_csv('nigerian_movies.csv', index=False)"
   ]
  },
  {
   "cell_type": "code",
   "execution_count": null,
   "id": "cfe49306-edd4-4d8f-89a8-58ae3fac1fc3",
   "metadata": {},
   "outputs": [],
   "source": []
  }
 ],
 "metadata": {
  "kernelspec": {
   "display_name": "Python 3 (ipykernel)",
   "language": "python",
   "name": "python3"
  },
  "language_info": {
   "codemirror_mode": {
    "name": "ipython",
    "version": 3
   },
   "file_extension": ".py",
   "mimetype": "text/x-python",
   "name": "python",
   "nbconvert_exporter": "python",
   "pygments_lexer": "ipython3",
   "version": "3.9.13"
  }
 },
 "nbformat": 4,
 "nbformat_minor": 5
}
